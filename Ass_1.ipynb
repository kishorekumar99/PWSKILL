{
 "cells": [
  {
   "attachments": {},
   "cell_type": "markdown",
   "metadata": {},
   "source": [
    "# Q1. Create one variable containing following type of data:\n",
    "(i) string\n",
    "(ii) list\n",
    "(iii) float\n",
    "(iv) tuple"
   ]
  },
  {
   "cell_type": "code",
   "execution_count": 1,
   "metadata": {},
   "outputs": [
    {
     "name": "stdout",
     "output_type": "stream",
     "text": [
      "PWSKILL\n"
     ]
    },
    {
     "data": {
      "text/plain": [
       "str"
      ]
     },
     "execution_count": 1,
     "metadata": {},
     "output_type": "execute_result"
    }
   ],
   "source": [
    "#String variable creation\n",
    "\n",
    "string='PWSKILL'\n",
    "print(string)\n",
    "type(string)"
   ]
  },
  {
   "cell_type": "code",
   "execution_count": 2,
   "metadata": {},
   "outputs": [
    {
     "name": "stdout",
     "output_type": "stream",
     "text": [
      "['10', '20', '30', '40', '50', '60', '70', '80']\n"
     ]
    },
    {
     "data": {
      "text/plain": [
       "list"
      ]
     },
     "execution_count": 2,
     "metadata": {},
     "output_type": "execute_result"
    }
   ],
   "source": [
    "#list variable creation\n",
    "val=[\"10\",\"20\",\"30\",\"40\",\"50\",\"60\",\"70\",\"80\"]\n",
    "print(val)\n",
    "type(val)"
   ]
  },
  {
   "cell_type": "code",
   "execution_count": 3,
   "metadata": {},
   "outputs": [
    {
     "name": "stdout",
     "output_type": "stream",
     "text": [
      "20.03\n"
     ]
    },
    {
     "data": {
      "text/plain": [
       "float"
      ]
     },
     "execution_count": 3,
     "metadata": {},
     "output_type": "execute_result"
    }
   ],
   "source": [
    "#Float variable creation\n",
    "\n",
    "float_variable=20.03\n",
    "print(float_variable)\n",
    "type(float_variable)"
   ]
  },
  {
   "cell_type": "code",
   "execution_count": 4,
   "metadata": {},
   "outputs": [
    {
     "name": "stdout",
     "output_type": "stream",
     "text": [
      "(1, 'shashak', 3, 40.02, (3+2j))\n",
      "<class 'int'> 1\n",
      "<class 'str'> shashak\n",
      "<class 'int'> 3\n",
      "<class 'float'> 40.02\n",
      "<class 'complex'> (3+2j)\n"
     ]
    }
   ],
   "source": [
    "#tuple variable creation\n",
    "\n",
    "\n",
    "tuple = (1,\"shashak\",3,40.02,3+2j)\n",
    "print(tuple)\n",
    "print(type(tuple[0]),tuple[0])\n",
    "print(type(tuple[1]),tuple[1])\n",
    "print(type(tuple[2]),tuple[2])\n",
    "print(type(tuple[3]),tuple[3])\n",
    "print(type(tuple[4]),tuple[4])\n",
    "\n"
   ]
  },
  {
   "attachments": {},
   "cell_type": "markdown",
   "metadata": {},
   "source": [
    "# Q2. Given are some following variables containing data:\n",
    "\n",
    "#### (i) var1 = ‘ ‘ ------> \"String\"\n",
    "\n",
    "#### (ii) var2 = ‘[ DS , ML , Python]’------> 'string\n",
    "\n",
    "#### (iii) var3 = [ ‘DS’ , ’ML’ , ‘Python’ ] ---->'Float'\n",
    "\n",
    "#### (iv) var4 = 1.---->'integer'"
   ]
  },
  {
   "cell_type": "code",
   "execution_count": 5,
   "metadata": {},
   "outputs": [
    {
     "name": "stdout",
     "output_type": "stream",
     "text": [
      "<class 'str'> [ DS , ML , Python]\n",
      "<class 'str'>  \n",
      "<class 'list'> ['DS', 'ML', 'Python']\n",
      "<class 'int'> 1\n"
     ]
    }
   ],
   "source": [
    "var2 = '[ DS , ML , Python]'\n",
    "print(type(var2),var2)\n",
    "\n",
    "var1 = ' '\n",
    "print(type(var1),var1)\n",
    "\n",
    "var3 = [ 'DS' , 'ML' , 'Python' ]\n",
    "print(type(var3),var3)\n",
    "\n",
    "var4 = 1\n",
    "print(type(var4),var4)"
   ]
  },
  {
   "attachments": {},
   "cell_type": "markdown",
   "metadata": {},
   "source": [
    "# Q3. Explain the use of the following operators using an example:\n",
    "#### (i) /\n",
    "#### (ii) %\n",
    "#### (iii) //\n",
    "#### (iv) **"
   ]
  },
  {
   "cell_type": "code",
   "execution_count": 6,
   "metadata": {},
   "outputs": [
    {
     "name": "stdout",
     "output_type": "stream",
     "text": [
      "2.0\n",
      "0\n",
      "2\n",
      "10240000000000\n"
     ]
    }
   ],
   "source": [
    "# i) / -->symbol used for divide operator.\n",
    "# ii) % -->symbol used for Modulus operator(remainder of divisional).\n",
    "# iii) // -->symbol used for division operator which exclude decimel.\n",
    "# iv) ** -->symbol used for square. \n",
    "\n",
    "\n",
    "val1=10\n",
    "val2=20\n",
    "\n",
    "print(val2/val1)\n",
    "\n",
    "print(val2%val1)\n",
    "\n",
    "print(val2//val1)\n",
    "\n",
    "print(val2**val1)"
   ]
  },
  {
   "attachments": {},
   "cell_type": "markdown",
   "metadata": {},
   "source": [
    "### Q4. Create a list of length 10 of your choice containing multiple types of data. Using for loop print the element and its data type."
   ]
  },
  {
   "cell_type": "code",
   "execution_count": 7,
   "metadata": {},
   "outputs": [
    {
     "name": "stdout",
     "output_type": "stream",
     "text": [
      "['5', True, False, 26.93, 23, 'value', 'integer', (3+2j), ('PWSkill', 'for'), 45, ' string']\n"
     ]
    }
   ],
   "source": [
    "lst=[\"5\",True,False,26.93,23,\"value\",'integer',3+2j,('PWSkill','for'),45,\" string\"]\n",
    "print(lst,end=\"\\n\")"
   ]
  },
  {
   "cell_type": "code",
   "execution_count": 8,
   "metadata": {},
   "outputs": [
    {
     "name": "stdout",
     "output_type": "stream",
     "text": [
      "5 <class 'str'> \n",
      " True <class 'bool'> \n",
      " False <class 'bool'> \n",
      " 26.93 <class 'float'> \n",
      " 23 <class 'int'> \n",
      " value <class 'str'> \n",
      " integer <class 'str'> \n",
      " (3+2j) <class 'complex'> \n",
      " ('PWSkill', 'for') <class 'tuple'> \n",
      " 45 <class 'int'> \n",
      " \n"
     ]
    }
   ],
   "source": [
    "for i in range(0, 10):\n",
    "    print(lst[i] , type(lst[i]), end=\" \\n \")\n",
    "print()"
   ]
  },
  {
   "attachments": {},
   "cell_type": "markdown",
   "metadata": {},
   "source": [
    "### Q5. Using a while loop, verify if the number A is purely divisible by number B and if so then how many times it can be divisible."
   ]
  },
  {
   "cell_type": "code",
   "execution_count": 12,
   "metadata": {},
   "outputs": [
    {
     "name": "stdout",
     "output_type": "stream",
     "text": [
      "A is divisible by B 3 times\n"
     ]
    }
   ],
   "source": [
    "A=int(input(\"enter the number\"))\n",
    "B=int(input(\"enter the number\"))\n",
    "count=0\n",
    "while A % B==0:\n",
    "    count+=1 #count=count+1\n",
    "    A=A//B # floor division\n",
    "if count > 0:\n",
    "    print(\"A is divisible by B\",count, \"times\")\n",
    "else:\n",
    "    print(\"A is not divisible by B\")\n",
    "\n"
   ]
  },
  {
   "attachments": {},
   "cell_type": "markdown",
   "metadata": {},
   "source": [
    "### Q6. Create a list containing 25 int type data. Using for loop and if-else condition print if the element is divisible by 3 or not."
   ]
  },
  {
   "cell_type": "code",
   "execution_count": 36,
   "metadata": {},
   "outputs": [],
   "source": [
    "val_list=list([12,14,15,13,134,83,24,243,2,6,82,92,91,102,55,63,26,74,82,43,1234,853,979,98,67,721])"
   ]
  },
  {
   "cell_type": "code",
   "execution_count": 37,
   "metadata": {},
   "outputs": [
    {
     "name": "stdout",
     "output_type": "stream",
     "text": [
      "<class 'list'>\n",
      "12 Is divisible by 3\n",
      "14 Is not divisible by 3\n",
      "15 Is divisible by 3\n",
      "13 Is not divisible by 3\n",
      "134 Is not divisible by 3\n",
      "83 Is not divisible by 3\n",
      "24 Is divisible by 3\n",
      "243 Is divisible by 3\n",
      "2 Is not divisible by 3\n",
      "6 Is divisible by 3\n",
      "82 Is not divisible by 3\n",
      "92 Is not divisible by 3\n",
      "91 Is not divisible by 3\n",
      "102 Is divisible by 3\n",
      "55 Is not divisible by 3\n",
      "63 Is divisible by 3\n",
      "26 Is not divisible by 3\n",
      "74 Is not divisible by 3\n",
      "82 Is not divisible by 3\n",
      "43 Is not divisible by 3\n",
      "1234 Is not divisible by 3\n",
      "853 Is not divisible by 3\n",
      "979 Is not divisible by 3\n",
      "98 Is not divisible by 3\n",
      "67 Is not divisible by 3\n",
      "721 Is not divisible by 3\n"
     ]
    }
   ],
   "source": [
    "print(type(val_list))\n",
    "for i in val_list:\n",
    "    if i%3==0:\n",
    "        print(i,\"Is divisible by 3\")\n",
    "    else:\n",
    "        print(i,\"Is not divisible by 3\")"
   ]
  },
  {
   "attachments": {},
   "cell_type": "markdown",
   "metadata": {},
   "source": [
    "### Q7. What do you understand about mutable and immutable data types? Give examples for both showing this property."
   ]
  },
  {
   "attachments": {},
   "cell_type": "markdown",
   "metadata": {},
   "source": [
    "#### Mutable data types----> (Object / variable) By changing the value of a variable without changing its identity. \n",
    "        Examples: List, Set,Dictionary.\n",
    "#### Immutable data types----> Object / variable) By changing the value of a variable, it allows changing its identity. \n",
    "     --> Examples: Tuples, Int, Float, Bool, Frozenset."
   ]
  },
  {
   "cell_type": "markdown",
   "metadata": {},
   "source": []
  }
 ],
 "metadata": {
  "kernelspec": {
   "display_name": "base",
   "language": "python",
   "name": "python3"
  },
  "language_info": {
   "codemirror_mode": {
    "name": "ipython",
    "version": 3
   },
   "file_extension": ".py",
   "mimetype": "text/x-python",
   "name": "python",
   "nbconvert_exporter": "python",
   "pygments_lexer": "ipython3",
   "version": "3.9.12"
  },
  "orig_nbformat": 4
 },
 "nbformat": 4,
 "nbformat_minor": 2
}
