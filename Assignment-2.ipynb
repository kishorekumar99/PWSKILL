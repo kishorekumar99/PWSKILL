{
 "cells": [
  {
   "cell_type": "markdown",
   "id": "61b9c4bf",
   "metadata": {},
   "source": [
    "### Q1. How do you comment code in Python? What are the different types of comments?"
   ]
  },
  {
   "cell_type": "markdown",
   "id": "034d316b",
   "metadata": {},
   "source": [
    "* Comment  describe what is happening inside a program or a function block.\n",
    "\n",
    "***1.Single-Line Comments***\n",
    "***2.Multi-Line Comments***\n",
    "***3.Add Sensible Comments\n",
    "4.Inline Comments\n",
    "5.Block Comments\n",
    "6.Docstring Comments\n",
    "7.Commenting Out Code for Testing***\n"
   ]
  },
  {
   "cell_type": "markdown",
   "id": "5996c96a",
   "metadata": {},
   "source": [
    "### Q2. What are variables in Python? How do you declare and assign values to variables?"
   ]
  },
  {
   "cell_type": "markdown",
   "id": "12ac4dc9",
   "metadata": {},
   "source": [
    "A variable is a reserved memory area (memory address) to store value, it can be either mutable or immutable.\n",
    "\n",
    "* Number\n",
    "        * Integer\n",
    "        * Float\n",
    "        * Complex\n",
    "* String\n",
    "* List\n"
   ]
  },
  {
   "cell_type": "code",
   "execution_count": 56,
   "id": "3adf15d7",
   "metadata": {},
   "outputs": [
    {
     "name": "stdout",
     "output_type": "stream",
     "text": [
      "48 \n",
      " <class 'int'>\n",
      "\n",
      "\n",
      "48.5 \n",
      " <class 'float'>\n",
      "\n",
      "\n",
      "(48+5j) \n",
      " <class 'complex'>\n"
     ]
    }
   ],
   "source": [
    "# Number\n",
    "val= 48 #Integer\n",
    "print(val,\"\\n\", type(val))\n",
    "print(\"\\n\")\n",
    "\n",
    "val_float= 48.5 #Float\n",
    "print(val_float,\"\\n\", type(val_float))\n",
    "print(\"\\n\")\n",
    "\n",
    "val_com= 48+5j #Complex\n",
    "print(val_com,\"\\n\", type(val_com))\n",
    "\n",
    "\n",
    "\n"
   ]
  },
  {
   "cell_type": "code",
   "execution_count": 57,
   "id": "e1f6aafb",
   "metadata": {},
   "outputs": [
    {
     "name": "stdout",
     "output_type": "stream",
     "text": [
      " Python \n",
      "\n",
      "  \n",
      "\n",
      " Pyt\n"
     ]
    }
   ],
   "source": [
    "# String\n",
    "str=\" Python \"\n",
    "print(str, end=\"\\n\")\n",
    "\n",
    "print(\"\\n\",str[0],end=\"\\n\")# its print empty space,string count space too.\n",
    "\n",
    "print(\"\\n\",str[1:4],end=\"\\n\")"
   ]
  },
  {
   "cell_type": "code",
   "execution_count": 58,
   "id": "2f734325",
   "metadata": {},
   "outputs": [
    {
     "name": "stdout",
     "output_type": "stream",
     "text": [
      "['python', 10, 13.45, True, (13+4j)] \n",
      "----------------------------------------------------------\n",
      "True \n",
      " <class 'bool'>\n",
      "----------------------------------------------------------\n",
      "13.45 \n",
      " <class 'float'>\n",
      "----------------------------------------------------------\n",
      "python \n",
      " <class 'str'>\n",
      "----------------------------------------------------------\n",
      "['python', 10, 13.45, True, (13+4j), False] \n"
     ]
    }
   ],
   "source": [
    "#List\n",
    "''' \n",
    "1.In the list insertion order of elements is preserved.\n",
    "2.Heterogeneous (all types of data types int, float, string) elements are allowed.\n",
    "3.Duplicates elements are permitted.\n",
    "4.The list is mutable(can change).\n",
    "5.Growable in nature means based on our requirement, we can increase or decrease the list’s size.\n",
    "6.List elements should be enclosed within square brackets []'''\n",
    "\n",
    "lst_val=['python',10,13.45,True,13+4j]\n",
    "print(lst_val, end=\" \\n\")\n",
    "print(\"----------------------------------------------------------\")\n",
    "print(lst_val[3],'\\n',type(lst_val[3]))\n",
    "print(\"----------------------------------------------------------\")\n",
    "print(lst_val[2],'\\n',type(lst_val[2]))\n",
    "print(\"----------------------------------------------------------\")\n",
    "print(lst_val[0],'\\n',type(lst_val[0]))\n",
    "print(\"----------------------------------------------------------\")\n",
    "lst_val.append(False)\n",
    "print(lst_val, end=\" \\n\")"
   ]
  },
  {
   "cell_type": "code",
   "execution_count": 59,
   "id": "c9327f75",
   "metadata": {},
   "outputs": [
    {
     "name": "stdout",
     "output_type": "stream",
     "text": [
      "10\n",
      "10\n",
      "10\n"
     ]
    }
   ],
   "source": [
    "#Multiple Assignment\n",
    "a=b=c=10\n",
    "print(a)\n",
    "print(b)\n",
    "print(c)"
   ]
  },
  {
   "cell_type": "code",
   "execution_count": 60,
   "id": "3e81ccc8",
   "metadata": {},
   "outputs": [],
   "source": [
    "name,score='python',10"
   ]
  },
  {
   "cell_type": "code",
   "execution_count": 61,
   "id": "5f4914b2",
   "metadata": {},
   "outputs": [
    {
     "name": "stdout",
     "output_type": "stream",
     "text": [
      "python\n",
      "10\n"
     ]
    }
   ],
   "source": [
    "print(name)\n",
    "print(score)"
   ]
  },
  {
   "cell_type": "markdown",
   "id": "46104ab4",
   "metadata": {},
   "source": [
    "### Q3. How do you convert one data type to another in Python?"
   ]
  },
  {
   "cell_type": "code",
   "execution_count": 62,
   "id": "4d21e6fe",
   "metadata": {},
   "outputs": [
    {
     "data": {
      "text/plain": [
       "int"
      ]
     },
     "execution_count": 62,
     "metadata": {},
     "output_type": "execute_result"
    }
   ],
   "source": [
    "type(a)"
   ]
  },
  {
   "cell_type": "code",
   "execution_count": 63,
   "id": "530f4209",
   "metadata": {},
   "outputs": [
    {
     "data": {
      "text/plain": [
       "10.0"
      ]
     },
     "execution_count": 63,
     "metadata": {},
     "output_type": "execute_result"
    }
   ],
   "source": [
    "float(a)"
   ]
  },
  {
   "cell_type": "code",
   "execution_count": 64,
   "id": "fb33fe4c",
   "metadata": {},
   "outputs": [
    {
     "data": {
      "text/plain": [
       "1"
      ]
     },
     "execution_count": 64,
     "metadata": {},
     "output_type": "execute_result"
    }
   ],
   "source": [
    "int(True)"
   ]
  },
  {
   "cell_type": "code",
   "execution_count": 65,
   "id": "7afb8fd4",
   "metadata": {},
   "outputs": [
    {
     "name": "stdout",
     "output_type": "stream",
     "text": [
      "<class 'bool'>\n",
      "False\n",
      "0\n",
      "0.0\n"
     ]
    }
   ],
   "source": [
    "boolean=False\n",
    "print(type(boolean))\n",
    "print(boolean)\n",
    "print(int(boolean))\n",
    "print(float(boolean))\n"
   ]
  },
  {
   "cell_type": "markdown",
   "id": "35ba02cd",
   "metadata": {},
   "source": [
    "### Q4. How do you write and execute a Python script from the command line?\n",
    "\n",
    "\n",
    "* Write the script and save the file with .py extension \n",
    "    *** File_name.py ***\n",
    "* Open Terminal and Check the directory, select the file path.\n",
    "* selection of the file path and run the file by the command *** Python file_name.py ***\n"
   ]
  },
  {
   "cell_type": "markdown",
   "id": "4900715e",
   "metadata": {},
   "source": [
    "### Q5. Given a list my_list = [1, 2, 3, 4, 5], write the code to slice the list and obtain the sub-list [2, 3]."
   ]
  },
  {
   "cell_type": "code",
   "execution_count": 66,
   "id": "b7ed7313",
   "metadata": {},
   "outputs": [
    {
     "name": "stdout",
     "output_type": "stream",
     "text": [
      "[1, 2, 3, 4, 5]\n",
      "[2, 3]\n"
     ]
    }
   ],
   "source": [
    "my_list = [1, 2, 3, 4, 5]\n",
    "print(my_list)\n",
    "sub_list=my_list[1:3]\n",
    "print(sub_list)"
   ]
  },
  {
   "cell_type": "markdown",
   "id": "c0cb172f",
   "metadata": {},
   "source": [
    "### Q6. What is a complex number in mathematics, and how is it represented in Python?"
   ]
  },
  {
   "cell_type": "code",
   "execution_count": 67,
   "id": "7689bd9f",
   "metadata": {},
   "outputs": [
    {
     "name": "stdout",
     "output_type": "stream",
     "text": [
      "(3+5j)\n",
      "<class 'complex'>\n"
     ]
    }
   ],
   "source": [
    "# complex number in mathematics consist of real and imaginary part.\n",
    "complex_number= 3+5j\n",
    "print(complex_number)\n",
    "print(type(complex_number))"
   ]
  },
  {
   "cell_type": "markdown",
   "id": "c578db73",
   "metadata": {},
   "source": [
    "### Q7. What is the correct way to declare a variable named age and assign the value 25 to it?"
   ]
  },
  {
   "cell_type": "code",
   "execution_count": 69,
   "id": "a6dfdf39",
   "metadata": {},
   "outputs": [
    {
     "name": "stdout",
     "output_type": "stream",
     "text": [
      "Enter the Age25\n",
      "25\n"
     ]
    }
   ],
   "source": [
    "age=int(input(\"Enter the Age\"))\n",
    "print(age)"
   ]
  },
  {
   "cell_type": "markdown",
   "id": "099a433c",
   "metadata": {},
   "source": [
    "### Q8. Declare a variable named price and assign the value 9.99 to it. What data type does this variable belong to?"
   ]
  },
  {
   "cell_type": "code",
   "execution_count": 70,
   "id": "fcb60ec9",
   "metadata": {},
   "outputs": [
    {
     "name": "stdout",
     "output_type": "stream",
     "text": [
      "9.99\n",
      "<class 'float'>\n"
     ]
    }
   ],
   "source": [
    "Price= 9.99\n",
    "print(Price)\n",
    "print(type(Price))"
   ]
  },
  {
   "cell_type": "markdown",
   "id": "aded5fd3",
   "metadata": {},
   "source": [
    "### Q9. Create a variable named name and assign your full name to it as a string. How would you print the value of this variable?"
   ]
  },
  {
   "cell_type": "code",
   "execution_count": 1,
   "id": "e831c8aa",
   "metadata": {},
   "outputs": [
    {
     "name": "stdout",
     "output_type": "stream",
     "text": [
      "PW SKILLS\n"
     ]
    }
   ],
   "source": [
    "Name=\"PW SKILLS\"\n",
    "print(Name)"
   ]
  },
  {
   "cell_type": "markdown",
   "id": "d664aa14",
   "metadata": {},
   "source": [
    "### Q10. Given the string \"Hello, World!\", extract the substring \"World\"."
   ]
  },
  {
   "cell_type": "code",
   "execution_count": 3,
   "id": "c627fa56",
   "metadata": {},
   "outputs": [
    {
     "name": "stdout",
     "output_type": "stream",
     "text": [
      "World\n"
     ]
    }
   ],
   "source": [
    "String=\"Hello, World!\"\n",
    "print(String[7:-1])"
   ]
  },
  {
   "cell_type": "markdown",
   "id": "b3705296",
   "metadata": {},
   "source": [
    "### Q11. Create a variable named \"is_student\" and assign it a boolean value indicating whether you are currently a student or not."
   ]
  },
  {
   "cell_type": "code",
   "execution_count": 8,
   "id": "6176408b",
   "metadata": {},
   "outputs": [
    {
     "name": "stdout",
     "output_type": "stream",
     "text": [
      "Enter the Value 1 if you are student or 0 if you are not student0\n",
      "\n",
      " False\n"
     ]
    }
   ],
   "source": [
    "is_student =bool(int(input(\"Enter the Value 1 if you are student or 0 if you are not student\")))\n",
    "print(\"\\n\",is_student)"
   ]
  },
  {
   "cell_type": "code",
   "execution_count": 9,
   "id": "3c07c77e",
   "metadata": {},
   "outputs": [
    {
     "name": "stdout",
     "output_type": "stream",
     "text": [
      "you are not Student\n"
     ]
    }
   ],
   "source": [
    "if(is_student== True):\n",
    "    print(\"you are currently Student\")\n",
    "else:\n",
    "    print(\"you are not Student\")"
   ]
  },
  {
   "cell_type": "code",
   "execution_count": null,
   "id": "4d23cd09",
   "metadata": {},
   "outputs": [],
   "source": []
  }
 ],
 "metadata": {
  "kernelspec": {
   "display_name": "Python 3 (ipykernel)",
   "language": "python",
   "name": "python3"
  },
  "language_info": {
   "codemirror_mode": {
    "name": "ipython",
    "version": 3
   },
   "file_extension": ".py",
   "mimetype": "text/x-python",
   "name": "python",
   "nbconvert_exporter": "python",
   "pygments_lexer": "ipython3",
   "version": "3.9.12"
  }
 },
 "nbformat": 4,
 "nbformat_minor": 5
}
